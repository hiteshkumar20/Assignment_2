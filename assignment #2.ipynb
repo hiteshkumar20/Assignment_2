{
 "cells": [
  {
   "cell_type": "markdown",
   "metadata": {},
   "source": [
    "### Q no 1: Write a python program to find number of occurrences of given number in a list with out using built-in methods\n"
   ]
  },
  {
   "cell_type": "markdown",
   "metadata": {},
   "source": [
    "#### **1 generate a list of some random num which is repeated again and again"
   ]
  },
  {
   "cell_type": "markdown",
   "metadata": {},
   "source": [
    "#### **2 take user input any number"
   ]
  },
  {
   "cell_type": "markdown",
   "metadata": {},
   "source": [
    "#### **3 find the number of occurrences of that num in your list"
   ]
  },
  {
   "cell_type": "markdown",
   "metadata": {},
   "source": [
    "#### **4 print some message to user with that result"
   ]
  },
  {
   "cell_type": "code",
   "execution_count": 9,
   "metadata": {},
   "outputs": [
    {
     "name": "stdout",
     "output_type": "stream",
     "text": [
      "Enter a number :4\n",
      "The number of  occurrence in my list is : 3\n"
     ]
    }
   ],
   "source": [
    "n=0\n",
    "random_list = [4,3,6,5,7,3,4,5,6,5,4,3,2,3]\n",
    "user_input=int(input(\"Enter a number :\"))\n",
    "for i in random_list:\n",
    "    if user_input==i:\n",
    "        n+=1\n",
    "print(\"The number of  occurrence in my list is : {}\".format(n))        "
   ]
  },
  {
   "cell_type": "markdown",
   "metadata": {},
   "source": [
    "### Q no 2: [\"www.zframez.com\", \"www.wikipedia.org\", \"www.asp.net\", \"www.abcd.in\"] "
   ]
  },
  {
   "cell_type": "markdown",
   "metadata": {},
   "source": [
    "#### Write a python program to print website suffixes (com , org , net ,in) from this list"
   ]
  },
  {
   "cell_type": "code",
   "execution_count": 14,
   "metadata": {},
   "outputs": [
    {
     "name": "stdout",
     "output_type": "stream",
     "text": [
      "com\n",
      "org\n",
      "net\n",
      "in\n"
     ]
    }
   ],
   "source": [
    "websites=[\"www.zframez.com\", \"www.wikipedia.org\", \"www.asp.net\", \"www.abcd.in\"]\n",
    "for names in websites:\n",
    "    print(names.split(\".\")[-1])   "
   ]
  },
  {
   "cell_type": "markdown",
   "metadata": {},
   "source": [
    "## Q no 3 : Write a program which can compute the factorial of a given numbers."
   ]
  },
  {
   "cell_type": "markdown",
   "metadata": {},
   "source": [
    "#### **1 first take user input any number"
   ]
  },
  {
   "cell_type": "markdown",
   "metadata": {},
   "source": [
    "#### **2 calculate factorial of that input and then print the result to user"
   ]
  },
  {
   "cell_type": "code",
   "execution_count": 12,
   "metadata": {},
   "outputs": [
    {
     "name": "stdout",
     "output_type": "stream",
     "text": [
      "Enter a positive number to find factorial :3\n",
      "The factorial of  3 is 6\n"
     ]
    }
   ],
   "source": [
    "user_response=int(input(\"Enter a positive number to find factorial :\"))\n",
    "#factorial = 1\n",
    "for i in range(1,user_response + 1):\n",
    "       factorial*=i\n",
    "print(\"The factorial of \",user_response,\"is\",factorial)"
   ]
  },
  {
   "cell_type": "markdown",
   "metadata": {},
   "source": [
    "### Q 4 (a) : If you could invite anyone, living or deceased, to dinner, who would you invite? Make a list that includes at least three people you’d like to invite to dinner. Then use your list to print a message to each person, inviting them to dinner. "
   ]
  },
  {
   "cell_type": "code",
   "execution_count": 13,
   "metadata": {},
   "outputs": [
    {
     "name": "stdout",
     "output_type": "stream",
     "text": [
      "you are invited to dinner Hitesh\n",
      "you are invited to dinner Ahmed\n",
      "you are invited to dinner ali\n"
     ]
    }
   ],
   "source": [
    "guests = [\"Hitesh\",\"Ahmed\",\"ali\"]\n",
    "for guest in guests:\n",
    "    print(\"you are invited to dinner\",guest)"
   ]
  },
  {
   "cell_type": "markdown",
   "metadata": {},
   "source": [
    "### Q 4 (b) : You just heard that one of your guests can’t make the dinner, so you need to send out a new set of invitations. You’ll have to think of someone else to invite. "
   ]
  },
  {
   "cell_type": "markdown",
   "metadata": {},
   "source": [
    "### • Start with your program from Q 4 (a). Add a print statement at the end of your program stating the name of the guest who can’t make it."
   ]
  },
  {
   "cell_type": "markdown",
   "metadata": {},
   "source": [
    "### • Modify your list, replacing the name of the guest who can’t make it with the name of the new person you are inviting. "
   ]
  },
  {
   "cell_type": "markdown",
   "metadata": {},
   "source": [
    "### • Print a second set of invitation messages, one for each person who is still in your list. "
   ]
  },
  {
   "cell_type": "code",
   "execution_count": 16,
   "metadata": {},
   "outputs": [
    {
     "name": "stdout",
     "output_type": "stream",
     "text": [
      " sorry guys Ahmed is not coming\n",
      "you are invited to dinner Hitesh\n",
      "you are invited to dinner ali\n",
      "you are invited to dinner Asad\n"
     ]
    }
   ],
   "source": [
    "guests.remove(\"Ahmed\")\n",
    "print(\" sorry guys Ahmed is not coming\")\n",
    "guests.append(\"Asad\")\n",
    "for guest in guests:\n",
    "    print(\"you are invited to dinner\",guest)"
   ]
  },
  {
   "cell_type": "markdown",
   "metadata": {},
   "source": [
    "## Q 4 (c) : You just found a bigger dinner table, so now more space is available. Think of three more guests to invite to dinner. "
   ]
  },
  {
   "cell_type": "markdown",
   "metadata": {},
   "source": [
    "## • Start with your program from Q 4 (a) and (b) Add a print statement to the end of your program informing people that you found a bigger dinner table.\n",
    "\n",
    "### • Use insert() to add one new guest to the beginning of your list.\n",
    "\n",
    "### • Use insert() to add one new guest to the middle of your list.\n",
    "\n",
    "### • Use append() to add one new guest to the end of your list.\n",
    "\n",
    "### • Print a new set of invitation messages, one for each person in your list."
   ]
  },
  {
   "cell_type": "code",
   "execution_count": 23,
   "metadata": {},
   "outputs": [
    {
     "name": "stdout",
     "output_type": "stream",
     "text": [
      "we have a big dinner table so we invited three more people !!\n",
      "you all are invited ubaid\n",
      "you all are invited kapil\n",
      "you all are invited kapil\n",
      "you all are invited hamza\n",
      "you all are invited kapil\n",
      "you all are invited ubaid\n",
      "you all are invited Hitesh\n",
      "you all are invited ubaid\n",
      "you all are invited ubaid\n",
      "you all are invited ubaid\n",
      "you all are invited ubaid\n",
      "you all are invited ali\n",
      "you all are invited Asad\n",
      "you all are invited hamza\n",
      "you all are invited hamza\n",
      "you all are invited hamza\n",
      "you all are invited hamza\n",
      "you all are invited hamza\n",
      "you all are invited wahab\n"
     ]
    }
   ],
   "source": [
    "print(\"we have a big dinner table so we invited three more people !!\")\n",
    "guests.insert(0,\"ubaid\")\n",
    "guests.insert(3,\"hamza\")\n",
    "guests.append(\"wahab\")\n",
    "for guest in guests:\n",
    "    print(\"you all are invited\",guest)"
   ]
  },
  {
   "cell_type": "markdown",
   "metadata": {},
   "source": [
    "### Q 5 : Here you have some data in variable below, your task is to make a list of specific word Surah then print the list and length of list"
   ]
  },
  {
   "cell_type": "code",
   "execution_count": 35,
   "metadata": {},
   "outputs": [
    {
     "name": "stdout",
     "output_type": "stream",
     "text": [
      "[]\n",
      "length of sura list is: 0\n"
     ]
    }
   ],
   "source": [
    "data = \"Surah I Who believe in the Unseen, Surah Are steadfast in prayer, And spend Surah out of what We Have provided for them;\"\n",
    "statement = data.split()\n",
    "my_list = []\n",
    "for i in statement:\n",
    "    if i == 'Sura':\n",
    "        my_list.append(s)\n",
    "print(my_list)\n",
    "print(\"length of sura list is:\",len(my_list))        "
   ]
  },
  {
   "cell_type": "code",
   "execution_count": null,
   "metadata": {},
   "outputs": [],
   "source": []
  }
 ],
 "metadata": {
  "kernelspec": {
   "display_name": "Python 3",
   "language": "python",
   "name": "python3"
  },
  "language_info": {
   "codemirror_mode": {
    "name": "ipython",
    "version": 3
   },
   "file_extension": ".py",
   "mimetype": "text/x-python",
   "name": "python",
   "nbconvert_exporter": "python",
   "pygments_lexer": "ipython3",
   "version": "3.6.5"
  }
 },
 "nbformat": 4,
 "nbformat_minor": 2
}
